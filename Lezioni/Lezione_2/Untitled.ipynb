{
 "cells": [
  {
   "cell_type": "code",
   "execution_count": 1,
   "id": "cec06392-76ff-4fc7-a2ca-9710052fa94d",
   "metadata": {},
   "outputs": [
    {
     "data": {
      "text/plain": [
       "False"
      ]
     },
     "execution_count": 1,
     "metadata": {},
     "output_type": "execute_result"
    }
   ],
   "source": [
    "import numpy as np\n",
    "prova = np.array(1)\n",
    "0 in prova\n"
   ]
  },
  {
   "cell_type": "code",
   "execution_count": 2,
   "id": "d40b6284-a8d8-4974-aeac-93cf8703565a",
   "metadata": {},
   "outputs": [
    {
     "data": {
      "text/plain": [
       "True"
      ]
     },
     "execution_count": 2,
     "metadata": {},
     "output_type": "execute_result"
    }
   ],
   "source": [
    "1 in prova\n"
   ]
  },
  {
   "cell_type": "code",
   "execution_count": null,
   "id": "3ed59f7b-4317-4927-a6df-37e2f2129d26",
   "metadata": {},
   "outputs": [],
   "source": []
  }
 ],
 "metadata": {
  "kernelspec": {
   "display_name": "Python 3 (ipykernel)",
   "language": "python",
   "name": "python3"
  },
  "language_info": {
   "codemirror_mode": {
    "name": "ipython",
    "version": 3
   },
   "file_extension": ".py",
   "mimetype": "text/x-python",
   "name": "python",
   "nbconvert_exporter": "python",
   "pygments_lexer": "ipython3",
   "version": "3.12.7"
  }
 },
 "nbformat": 4,
 "nbformat_minor": 5
}
