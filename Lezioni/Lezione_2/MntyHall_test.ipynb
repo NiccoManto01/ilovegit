{
 "cells": [
  {
   "cell_type": "code",
   "execution_count": 2,
   "metadata": {},
   "outputs": [
    {
     "ename": "KeyboardInterrupt",
     "evalue": "",
     "output_type": "error",
     "traceback": [
      "\u001b[1;31m---------------------------------------------------------------------------\u001b[0m",
      "\u001b[1;31mKeyboardInterrupt\u001b[0m                         Traceback (most recent call last)",
      "Cell \u001b[1;32mIn[2], line 25\u001b[0m\n\u001b[0;32m     23\u001b[0m \u001b[38;5;28;01mfor\u001b[39;00m n \u001b[38;5;129;01min\u001b[39;00m \u001b[38;5;28mrange\u001b[39m (\u001b[38;5;241m0\u001b[39m,n_door):\n\u001b[0;32m     24\u001b[0m     \u001b[38;5;28;01mif\u001b[39;00m n\u001b[38;5;241m!=\u001b[39m choice:\n\u001b[1;32m---> 25\u001b[0m         doors_to_choose \u001b[38;5;241m=\u001b[39m np\u001b[38;5;241m.\u001b[39mappend(doors_to_choose,n)\n\u001b[0;32m     26\u001b[0m     \u001b[38;5;28;01mif\u001b[39;00m n\u001b[38;5;241m!=\u001b[39mchoice \u001b[38;5;129;01mand\u001b[39;00m n\u001b[38;5;241m!=\u001b[39mcar:\n\u001b[0;32m     27\u001b[0m         doors_to_open \u001b[38;5;241m=\u001b[39m np\u001b[38;5;241m.\u001b[39mappend(doors_to_open,n)\n",
      "File \u001b[1;32mc:\\Users\\nicco\\anaconda3\\Lib\\site-packages\\numpy\\lib\\function_base.py:5618\u001b[0m, in \u001b[0;36mappend\u001b[1;34m(arr, values, axis)\u001b[0m\n\u001b[0;32m   5616\u001b[0m     values \u001b[38;5;241m=\u001b[39m ravel(values)\n\u001b[0;32m   5617\u001b[0m     axis \u001b[38;5;241m=\u001b[39m arr\u001b[38;5;241m.\u001b[39mndim\u001b[38;5;241m-\u001b[39m\u001b[38;5;241m1\u001b[39m\n\u001b[1;32m-> 5618\u001b[0m \u001b[38;5;28;01mreturn\u001b[39;00m concatenate((arr, values), axis\u001b[38;5;241m=\u001b[39maxis)\n",
      "\u001b[1;31mKeyboardInterrupt\u001b[0m: "
     ]
    }
   ],
   "source": [
    "import numpy as np\n",
    "import random as rd\n",
    "\n",
    "p1 = np.array((0,0))\n",
    "p2 = np.array((0,0))\n",
    "p3 = np.array((0,0))\n",
    "\n",
    "n_part = 100000\n",
    "n_door = 10\n",
    "n_choice = 4\n",
    "n_op_door = n_door - n_choice\n",
    "\n",
    "data = np.zeros((1,4))\n",
    "\n",
    "for i in range (1,n_part+1):\n",
    "    choice = rd.randint(0,n_door-1)\n",
    "    p1[0] = choice\n",
    "    p2[0] = choice\n",
    "    car = rd.randint(0,n_door-1)\n",
    "\n",
    "    doors_to_open = np.array([])\n",
    "    doors_to_choose = np.array([])\n",
    "    for n in range (0,n_door):\n",
    "        if n!= choice:\n",
    "            doors_to_choose = np.append(doors_to_choose,n)\n",
    "        if n!=choice and n!=car:\n",
    "            doors_to_open = np.append(doors_to_open,n)\n",
    "            \n",
    "    doors_to_open = doors_to_open.astype(int)\n",
    "    doors_to_choose = doors_to_choose.astype(int)\n",
    "    for n in range (0,n_op_door):\n",
    "        remove = rd.choice(doors_to_open)\n",
    "        pos1 = np.searchsorted(doors_to_open, remove)\n",
    "        pos2 = np.searchsorted(doors_to_choose, remove)\n",
    "        doors_to_open = np.delete(doors_to_open, pos1)\n",
    "        doors_to_choose = np.delete(doors_to_choose, pos2)\n",
    "\n",
    "    p1[0] = rd.choice(doors_to_choose)\n",
    "\n",
    "    doors_to_choose = np.append(doors_to_choose, choice)\n",
    "    p3[0] = rd.choice(doors_to_choose)\n",
    "        \n",
    "    if p1[0] == car:\n",
    "        p1[1] += 1\n",
    "    if p2[0] == car:\n",
    "        p2[1] += 1\n",
    "    if p3[0] == car:\n",
    "        p3[1] += 1\n",
    "        \n",
    "    if i==100:\n",
    "        data[0,0] = i\n",
    "        data[0,1] = p1[1]/i\n",
    "        data[0,2] = p2[1]/i\n",
    "        data[0,3] = p3[1]/i\n",
    "        \n",
    "    if i%100 == 0 and i>100:\n",
    "        data = np.append(data,[[i, p1[1]/i, p2[1]/i, p3[1]/i]], axis=0)\n",
    "    \n",
    "print(data)   \n"
   ]
  }
 ],
 "metadata": {
  "kernelspec": {
   "display_name": "base",
   "language": "python",
   "name": "python3"
  },
  "language_info": {
   "codemirror_mode": {
    "name": "ipython",
    "version": 3
   },
   "file_extension": ".py",
   "mimetype": "text/x-python",
   "name": "python",
   "nbconvert_exporter": "python",
   "pygments_lexer": "ipython3",
   "version": "3.12.7"
  }
 },
 "nbformat": 4,
 "nbformat_minor": 2
}
