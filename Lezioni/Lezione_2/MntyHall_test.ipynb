{
 "cells": [
  {
   "cell_type": "code",
   "execution_count": 1,
   "metadata": {},
   "outputs": [
    {
     "name": "stdout",
     "output_type": "stream",
     "text": [
      "[[1.00000000e+02 3.00000000e-01 1.30000000e-01 2.30000000e-01]\n",
      " [2.00000000e+02 2.55000000e-01 1.25000000e-01 2.30000000e-01]\n",
      " [3.00000000e+02 2.70000000e-01 1.23333333e-01 2.36666667e-01]\n",
      " ...\n",
      " [9.98000000e+04 3.00721443e-01 9.88076152e-02 2.51212425e-01]\n",
      " [9.99000000e+04 3.00750751e-01 9.87987988e-02 2.51191191e-01]\n",
      " [1.00000000e+05 3.00780000e-01 9.88100000e-02 2.51240000e-01]]\n"
     ]
    }
   ],
   "source": [
    "import numpy as np\n",
    "import random as rd\n",
    "\n",
    "p1 = np.array((0,0))\n",
    "p2 = np.array((0,0))\n",
    "p3 = np.array((0,0))\n",
    "\n",
    "n_part = 100000\n",
    "n_door = 10\n",
    "n_choice = 4\n",
    "n_op_door = n_door - n_choice\n",
    "\n",
    "data = np.zeros((1,4))\n",
    "\n",
    "for i in range (1,n_part+1):\n",
    "    choice = rd.randint(0,n_door-1)\n",
    "    p1[0] = choice\n",
    "    p2[0] = choice\n",
    "    car = rd.randint(0,n_door-1)\n",
    "\n",
    "    doors_to_open = np.array([])\n",
    "    doors_to_choose = np.array([])\n",
    "    for n in range (0,n_door):\n",
    "        if n!= choice:\n",
    "            doors_to_choose = np.append(doors_to_choose,n)\n",
    "        if n!=choice and n!=car:\n",
    "            doors_to_open = np.append(doors_to_open,n)\n",
    "            \n",
    "    doors_to_open = doors_to_open.astype(int)\n",
    "    doors_to_choose = doors_to_choose.astype(int)\n",
    "    for n in range (0,n_op_door):\n",
    "        remove = rd.choice(doors_to_open)\n",
    "        pos1 = np.searchsorted(doors_to_open, remove)\n",
    "        pos2 = np.searchsorted(doors_to_choose, remove)\n",
    "        doors_to_open = np.delete(doors_to_open, pos1)\n",
    "        doors_to_choose = np.delete(doors_to_choose, pos2)\n",
    "\n",
    "    p1[0] = rd.choice(doors_to_choose)\n",
    "\n",
    "    doors_to_choose = np.append(doors_to_choose, choice)\n",
    "    p3[0] = rd.choice(doors_to_choose)\n",
    "        \n",
    "    if p1[0] == car:\n",
    "        p1[1] += 1\n",
    "    if p2[0] == car:\n",
    "        p2[1] += 1\n",
    "    if p3[0] == car:\n",
    "        p3[1] += 1\n",
    "        \n",
    "    if i==100:\n",
    "        data[0,0] = i\n",
    "        data[0,1] = p1[1]/i\n",
    "        data[0,2] = p2[1]/i\n",
    "        data[0,3] = p3[1]/i\n",
    "        \n",
    "    if i%100 == 0 and i>100:\n",
    "        data = np.append(data,[[i, p1[1]/i, p2[1]/i, p3[1]/i]], axis=0)\n",
    "    \n",
    "print(data)   \n"
   ]
  }
 ],
 "metadata": {
  "kernelspec": {
   "display_name": "base",
   "language": "python",
   "name": "python3"
  },
  "language_info": {
   "codemirror_mode": {
    "name": "ipython",
    "version": 3
   },
   "file_extension": ".py",
   "mimetype": "text/x-python",
   "name": "python",
   "nbconvert_exporter": "python",
   "pygments_lexer": "ipython3",
   "version": "3.12.7"
  }
 },
 "nbformat": 4,
 "nbformat_minor": 2
}
