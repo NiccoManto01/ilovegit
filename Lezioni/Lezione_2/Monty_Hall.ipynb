{
 "cells": [
  {
   "cell_type": "code",
   "execution_count": 1,
   "id": "bea3e5e3-556e-4548-b93b-cbad78ee7629",
   "metadata": {},
   "outputs": [
    {
     "name": "stdout",
     "output_type": "stream",
     "text": [
      "[[1.00000000e+02 6.40000000e-01 3.60000000e-01 4.90000000e-01]\n",
      " [2.00000000e+02 6.50000000e-01 3.50000000e-01 4.45000000e-01]\n",
      " [3.00000000e+02 6.70000000e-01 3.30000000e-01 4.63333333e-01]\n",
      " ...\n",
      " [9.98000000e+04 6.66763527e-01 3.33236473e-01 5.00000000e-01]\n",
      " [9.99000000e+04 6.66776777e-01 3.33223223e-01 4.99949950e-01]\n",
      " [1.00000000e+05 6.66800000e-01 3.33200000e-01 4.99860000e-01]]\n"
     ]
    }
   ],
   "source": [
    "import numpy as np\n",
    "import random as rd\n",
    "\n",
    "p1 = np.array((0,0))\n",
    "p2 = np.array((0,0))\n",
    "p3 = np.array((0,0))\n",
    "\n",
    "n_part = 100000\n",
    "n_door = 3\n",
    "n_choice = 2\n",
    "n_goat = n_door - n_choice\n",
    "\n",
    "data = np.zeros((1,4))\n",
    "\n",
    "for i in range (1,n_part+1):\n",
    "    choice = rd.randint(0,n_door-1)\n",
    "    p1[0] = choice\n",
    "    p2[0] = choice\n",
    "    car = rd.randint(0,n_door-1)\n",
    "\n",
    "    check = 0\n",
    "    door_op = np.array([])\n",
    "    while check<n_goat:\n",
    "        remove = rd.randint(0,n_door-1)\n",
    "        while remove==choice or remove in door_op or remove==car:\n",
    "            remove = rd.randint(0,n_door-1)\n",
    "        door_op = np.append(door_op, remove)\n",
    "        check +=1\n",
    "           \n",
    "    while choice==p1[0] or p1[0] in door_op:\n",
    "        p1[0] = rd.randint(0,n_door-1)\n",
    "\n",
    "    p3[0] = rd.randint(0,n_door-1) \n",
    "    while p3[0] in door_op:\n",
    "        p3[0] = rd.randint(0,n_door-1)\n",
    "        \n",
    "    if p1[0] == car:\n",
    "        p1[1] += 1\n",
    "    if p2[0] == car:\n",
    "        p2[1] += 1\n",
    "    if p3[0] == car:\n",
    "        p3[1] += 1\n",
    "        \n",
    "    if i==100:\n",
    "        data[0,0] = i\n",
    "        data[0,1] = p1[1]/i\n",
    "        data[0,2] = p2[1]/i\n",
    "        data[0,3] = p3[1]/i\n",
    "        \n",
    "    if i%100 == 0 and i>100:\n",
    "        data = np.append(data,[[i, p1[1]/i, p2[1]/i, p3[1]/i]], axis=0)\n",
    "        \n",
    "print(data)\n",
    "    \n",
    "#print(\"Su \", n_part, \" partite \\np1 ha vinto:\",p1[1], \"volte \\np2 ha vinto:\",p2[1], \"volte \\np3 ha vinto:\",p3[1], \"volte\")\n",
    "\n",
    "\n"
   ]
  },
  {
   "cell_type": "code",
   "execution_count": null,
   "id": "ea4bf046-37db-4e92-88e7-df921cb13117",
   "metadata": {},
   "outputs": [],
   "source": []
  }
 ],
 "metadata": {
  "kernelspec": {
   "display_name": "Python 3",
   "language": "python",
   "name": "python3"
  },
  "language_info": {
   "codemirror_mode": {
    "name": "ipython",
    "version": 3
   },
   "file_extension": ".py",
   "mimetype": "text/x-python",
   "name": "python",
   "nbconvert_exporter": "python",
   "pygments_lexer": "ipython3",
   "version": "3.11.9"
  }
 },
 "nbformat": 4,
 "nbformat_minor": 5
}
