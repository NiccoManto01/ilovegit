{
 "cells": [
  {
   "cell_type": "code",
   "execution_count": 1,
   "metadata": {},
   "outputs": [
    {
     "name": "stderr",
     "output_type": "stream",
     "text": [
      "Matplotlib is building the font cache; this may take a moment.\n"
     ]
    },
    {
     "ename": "ModuleNotFoundError",
     "evalue": "No module named 'scipy'",
     "output_type": "error",
     "traceback": [
      "\u001b[31m---------------------------------------------------------------------------\u001b[39m",
      "\u001b[31mModuleNotFoundError\u001b[39m                       Traceback (most recent call last)",
      "\u001b[36mCell\u001b[39m\u001b[36m \u001b[39m\u001b[32mIn[1]\u001b[39m\u001b[32m, line 3\u001b[39m\n\u001b[32m      1\u001b[39m \u001b[38;5;28;01mimport\u001b[39;00m\u001b[38;5;250m \u001b[39m\u001b[34;01mnumpy\u001b[39;00m\u001b[38;5;250m \u001b[39m\u001b[38;5;28;01mas\u001b[39;00m\u001b[38;5;250m \u001b[39m\u001b[34;01mnp\u001b[39;00m\n\u001b[32m      2\u001b[39m \u001b[38;5;28;01mfrom\u001b[39;00m\u001b[38;5;250m \u001b[39m\u001b[34;01mmatplotlib\u001b[39;00m\u001b[38;5;250m \u001b[39m\u001b[38;5;28;01mimport\u001b[39;00m pyplot \u001b[38;5;28;01mas\u001b[39;00m plt\n\u001b[32m----> \u001b[39m\u001b[32m3\u001b[39m \u001b[38;5;28;01mfrom\u001b[39;00m\u001b[38;5;250m \u001b[39m\u001b[34;01mscipy\u001b[39;00m\u001b[34;01m.\u001b[39;00m\u001b[34;01mstats\u001b[39;00m\u001b[38;5;250m \u001b[39m\u001b[38;5;28;01mimport\u001b[39;00m poisson\n\u001b[32m      5\u001b[39m group_f = np.array((\u001b[32m109\u001b[39m, \u001b[32m65\u001b[39m, \u001b[32m22\u001b[39m, \u001b[32m3\u001b[39m, \u001b[32m1\u001b[39m))/\u001b[32m200\u001b[39m\n\u001b[32m      6\u001b[39m n_caus = np.arange(\u001b[32m5\u001b[39m)\n",
      "\u001b[31mModuleNotFoundError\u001b[39m: No module named 'scipy'"
     ]
    }
   ],
   "source": [
    "import numpy as np\n",
    "from matplotlib import pyplot as plt\n",
    "from scipy.stats import poisson\n",
    "\n",
    "group_f = np.array((109, 65, 22, 3, 1))/200\n",
    "n_caus = np.arange(5)\n",
    "temp = group_f*n_caus\n",
    "mu = sum(temp)\n",
    "dist = poisson(mu)\n",
    "\n",
    "fig, ax1 = plt.subplots()\n",
    "\n",
    "# Creazione del bar graph\n",
    "ax1.bar(n_caus, group_f, width=0.8, color='b', alpha = 0.75, label=\"Bortkiewicz's data\")\n",
    "ax1.set_xlabel(\"N° casualties\")\n",
    "ax1.set_ylabel(\"N° groups\")\n",
    "\n",
    "# Creazione del secondo asse y per il line graph\n",
    "#ax2 = ax1.twinx()\n",
    "ax1.plot(n_caus,dist.pmf(n_caus), color='r', linestyle='-', zorder=2, label=rf\"Poisson $\\mu$={mu:.3f}\")\n",
    "plt.scatter(n_caus, dist.pmf(n_caus), edgecolor='red',facecolor='white', zorder=3)\n",
    "\n",
    "# Aggiungere la legenda\n",
    "ax1.legend(loc=\"upper right\")\n",
    "\n",
    "#MANCA PROVARE UNA POISSONIANA CON MEDIA PARI ALLA MEDIA DEL SAMPLE\n",
    "plt.title(\"Horse-kick casualties in Prussian cavalry regiments\")\n",
    "plt.show()\n",
    "\n"
   ]
  }
 ],
 "metadata": {
  "kernelspec": {
   "display_name": "Python 3",
   "language": "python",
   "name": "python3"
  },
  "language_info": {
   "codemirror_mode": {
    "name": "ipython",
    "version": 3
   },
   "file_extension": ".py",
   "mimetype": "text/x-python",
   "name": "python",
   "nbconvert_exporter": "python",
   "pygments_lexer": "ipython3",
   "version": "3.11.9"
  }
 },
 "nbformat": 4,
 "nbformat_minor": 2
}
