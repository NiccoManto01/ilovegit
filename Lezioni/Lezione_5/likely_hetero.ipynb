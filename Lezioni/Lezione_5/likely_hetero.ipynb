{
 "cells": [
  {
   "cell_type": "code",
   "execution_count": null,
   "metadata": {},
   "outputs": [],
   "source": [
    "import numpy as np\n",
    "import random as rd\n",
    "from matplotlib import pyplot as plt\n",
    "import scipy.stats as stats\n",
    "from scipy.stats import norm\n",
    "from scipy.stats import uniform\n",
    "import math\n",
    "import matplotlib.image as mpimg\n",
    "\n",
    "def likelihood_gauss (mu_t, sigma_t, mu_range, n_data):\n",
    "    dist_gauss = norm.rvs(mu_t, sigma_t, size = n_data)\n",
    "    L_Gauss = []\n",
    "    for mu in mu_range:\n",
    "        L_G_temp = norm.logpdf(dist_gauss,mu)\n",
    "        L_G_sum = np.sum(L_G_temp)\n",
    "        L_Gauss = np.append(L_Gauss, L_G_sum)\n",
    "    return L_Gauss\n",
    "\n",
    "fig1, ax1 = plt.subplots()\n",
    "n_data = 100\n",
    "mu_t = 1\n",
    "sigma_t = 0.2\n",
    "mu_prec = 1000\n",
    "mu_min = -1\n",
    "mu_max = 3\n",
    "mu_range = np.linspace(mu_t-2, mu_t+2, mu_prec)\n",
    "x_data = norm.rvs(mu_t, sigma_t, size = n_data)\n",
    "logL_Gauss = np.full(1000,0.)\n",
    "#lyne_color =['blue', 'red', 'green', 'orange', 'purple']\n",
    "for x in x_data:\n",
    "    like_temp = []\n",
    "    for mu in mu_range:\n",
    "        dist_gauss = norm.pdf(x, mu, sigma_t)\n",
    "        like_temp = np.append(like_temp, dist_gauss)\n",
    "    ax1.plot(mu_range, like_temp, linewidth = 1.5, color = 'deepskyblue', alpha = 0.006)\n",
    "    ax1.fill_between(mu_range, like_temp, color=\"deepskyblue\", alpha=0.006)    \n",
    "    logL_Gauss += np.log(like_temp, out = like_temp)\n",
    "plt.show()\n"
   ]
  },
  {
   "cell_type": "code",
   "execution_count": null,
   "metadata": {},
   "outputs": [],
   "source": [
    "fig2, ax2 = plt.subplots()\n",
    "index = np.where(logL_Gauss == logL_Gauss.max())\n",
    "index = index[0][0]\n",
    "mean_l = mu_range[index]\n",
    "print(mean_l)\n",
    "mean_o =sum(x_data/n_data)\n",
    "print(mean_o)\n",
    "\n",
    "plt.plot(mu_range, logL_Gauss, linewidth = 1.5, label = \"logLikelihood\")\n",
    "plt.axvline(x=sum(x_data)/n_data, color=\"red\", linestyle=\"--\", label=r\"$\\mu_o$\")\n",
    "plt.xlabel(r\"$\\mu$ Range\")\n",
    "plt.ylabel(\"Likelihood\")\n",
    "plt.legend(loc = \"upper right\")"
   ]
  },
  {
   "cell_type": "code",
   "execution_count": null,
   "metadata": {},
   "outputs": [],
   "source": [
    "delta_mu = (mu_max - mu_min)/mu_prec\n",
    "deriv_1 = np.diff(logL_Gauss)\n",
    "deriv_2 = np.diff(deriv_1)/(delta_mu*delta_mu)\n",
    "sigma_l = 1/math.sqrt(-deriv_2[index])\n",
    "print(sigma_l)\n",
    "x_set = np.linspace(-1, 3, 1000)\n",
    "norm_finale = norm.pdf(x_set, mean_l, sigma_l)/10\n",
    "ax1.plot(x_set, norm_finale, color = 'b')\n",
    "display(fig1)"
   ]
  }
 ],
 "metadata": {
  "language_info": {
   "name": "python"
  }
 },
 "nbformat": 4,
 "nbformat_minor": 2
}
